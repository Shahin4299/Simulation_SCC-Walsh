{
 "cells": [
  {
   "cell_type": "code",
   "execution_count": 175,
   "metadata": {},
   "outputs": [],
   "source": [
    "import numpy as np\n",
    "import komm\n",
    "import matplotlib.pyplot as plt\n",
    "import copy as cp\n",
    "import pandas as pd\n",
    "import statsmodels.api as sm"
   ]
  },
  {
   "cell_type": "code",
   "execution_count": 176,
   "metadata": {},
   "outputs": [
    {
     "name": "stdout",
     "output_type": "stream",
     "text": [
      "Number of Users = 128\n",
      "Number of bits for each User= 128\n"
     ]
    }
   ],
   "source": [
    "nu = int(input('Number of Users = '))\n",
    "u = [];\n",
    "ml = int(input(\"Number of bits for each User= \"))"
   ]
  },
  {
   "cell_type": "code",
   "execution_count": 177,
   "metadata": {},
   "outputs": [],
   "source": [
    "def nextpow2(n):\n",
    "    return int(np.ceil(np.log2(n)))\n",
    "    "
   ]
  },
  {
   "cell_type": "code",
   "execution_count": 178,
   "metadata": {},
   "outputs": [
    {
     "data": {
      "text/plain": [
       "array([[0, 0, 0, ..., 0, 1, 0],\n",
       "       [0, 1, 0, ..., 1, 1, 1],\n",
       "       [1, 0, 1, ..., 1, 1, 1],\n",
       "       ...,\n",
       "       [0, 1, 0, ..., 0, 0, 0],\n",
       "       [1, 1, 0, ..., 1, 0, 1],\n",
       "       [0, 1, 0, ..., 0, 1, 0]])"
      ]
     },
     "execution_count": 178,
     "metadata": {},
     "output_type": "execute_result"
    }
   ],
   "source": [
    "hl = 2**nextpow2(nu)\n",
    "u_binary = np.random.randint(low=0, high=2, size=(nu,ml))\n",
    "u_binary"
   ]
  },
  {
   "cell_type": "code",
   "execution_count": 179,
   "metadata": {},
   "outputs": [
    {
     "data": {
      "text/plain": [
       "array([[-1, -1, -1, ..., -1,  1, -1],\n",
       "       [-1,  1, -1, ...,  1,  1,  1],\n",
       "       [ 1, -1,  1, ...,  1,  1,  1],\n",
       "       ...,\n",
       "       [-1,  1, -1, ..., -1, -1, -1],\n",
       "       [ 1,  1, -1, ...,  1, -1,  1],\n",
       "       [-1,  1, -1, ..., -1,  1, -1]])"
      ]
     },
     "execution_count": 179,
     "metadata": {},
     "output_type": "execute_result"
    }
   ],
   "source": [
    "u_BPSK = u_binary*2 - 1\n",
    "u_BPSK"
   ]
  },
  {
   "cell_type": "code",
   "execution_count": 180,
   "metadata": {},
   "outputs": [],
   "source": [
    "def WalshGenerator(code_length):\n",
    "        \n",
    "        code_length\n",
    "        code=[[-1,-1],[-1,1]]\n",
    "        [r1,c1]=np.shape(code)\n",
    "        while r1<code_length:\n",
    "            code=np.concatenate((code,code))\n",
    "            code=np.concatenate((code,code),axis=1)\n",
    "            for i in range(r1):\n",
    "                for j in range(c1):\n",
    "                    code[i+r1][j+c1]=-1*code[i][j]\n",
    "            [r1, c1] = np.shape(code)\n",
    "        return code\n",
    "    \n",
    "    \n"
   ]
  },
  {
   "cell_type": "code",
   "execution_count": 181,
   "metadata": {},
   "outputs": [
    {
     "data": {
      "text/plain": [
       "array([[-1., -1., -1., ..., -1.,  1., -1.],\n",
       "       [-1.,  1., -1., ...,  1.,  1.,  1.],\n",
       "       [-1., -1.,  1., ..., -1., -1.,  1.],\n",
       "       ...,\n",
       "       [-1.,  1., -1., ..., -1., -1., -1.],\n",
       "       [-1., -1.,  1., ...,  1.,  1., -1.],\n",
       "       [-1.,  1.,  1., ..., -1.,  1.,  1.]])"
      ]
     },
     "execution_count": 181,
     "metadata": {},
     "output_type": "execute_result"
    }
   ],
   "source": [
    "def Super_codes_(dim):\n",
    "    a=np.array(WalshGenerator(dim))\n",
    "    b=np.array(WalshGenerator(dim))\n",
    "    d=np.array(WalshGenerator(dim))\n",
    "\n",
    "    n1,n2=np.shape(a)\n",
    "    c=np.array([])\n",
    "    e=np.array([])\n",
    "    t=np.array([])\n",
    "    s_c=np.array([])\n",
    "    eext=np.array([])\n",
    "    for i in range(n1):\n",
    "        for j in range(n1):\n",
    "            c=np.append(c,b[j][i]*a[j][:])\n",
    "    c=np.reshape(c,(n1,n1**2))\n",
    "    for i in range(n1):\n",
    "        for j in range(n1):\n",
    "            dd=d[j][:]\n",
    "            dd = np.tile(dd,n1)\n",
    "            cc = c[i][:]\n",
    "            mp=np.multiply(cc,dd)\n",
    "            e=np.append(e,mp)\n",
    "    e=np.reshape(e,(n1**2,n1**2))\n",
    "    t=cp.copy(e)\n",
    "    m1,m2=np.shape(t)\n",
    "    td=np.array([])\n",
    "    s_c=np.empty((2*n1**2,2*n1**2))\n",
    "    for i in range(0,n1**2,2):\n",
    "        td=np.vstack([t[i][:],t[i+1][:]])\n",
    "        td=np.reshape(td,(1,2*n1**2), order='F')\n",
    "        s_c[i*2]=td\n",
    "\n",
    "        for j in range(2*n1**2):\n",
    "            s_c[2*i+1][j]=(-1)**(j)*s_c[2*i][j]\n",
    "        for k in range(0,2*n1**2-1,2):\n",
    "            c1=s_c[2*i][k]\n",
    "            c2=s_c[2*i][k+1]\n",
    "            s_c[2*i+2][k]=c2\n",
    "            s_c[2*i+2][k + 1]=c1\n",
    "        for l in range(2*n1**2):\n",
    "             s_c[2*i+3][l]=(-1)**(l)*s_c[2*i+2][l]\n",
    "    np.shape(s_c)\n",
    "    return (s_c)\n",
    "def Super_codes(nu):\n",
    "    c = 1\n",
    "    code = Super_codes_(c)\n",
    "    while code.shape[0] < nu:\n",
    "        c += 1\n",
    "        code = Super_codes_(c)\n",
    "    return code\n",
    "\n",
    "Super_codes(nu).shape\n",
    "Super_codes(nu)"
   ]
  },
  {
   "cell_type": "code",
   "execution_count": 182,
   "metadata": {},
   "outputs": [],
   "source": [
    "# def hadamard(code_length):\n",
    "#     code_length=nu\n",
    "#     code=[[-1,-1],[-1,1]]\n",
    "#     [r1,c1]=np.shape(code)\n",
    "#     while r1<code_length:\n",
    "#         code=np.concatenate((code,code))\n",
    "#         code=np.concatenate((code,code),axis=1)\n",
    "#         for i in range(r1):\n",
    "#             for j in range(c1):\n",
    "#                 code[i+r1][j+c1]=-1*code[i][j]\n",
    "#         [r1, c1] = np.shape(code)\n",
    "#     return(-code)\n",
    "\n"
   ]
  },
  {
   "cell_type": "code",
   "execution_count": null,
   "metadata": {},
   "outputs": [],
   "source": []
  },
  {
   "cell_type": "code",
   "execution_count": 183,
   "metadata": {},
   "outputs": [],
   "source": [
    "def kron(A,B): #Kronecker tensor product.\n",
    "#     print(A.shape, B.shape)\n",
    "    ma,na = A.shape\n",
    "    mb,nb = B.shape\n",
    "    a = np.reshape(A, (1,ma, 1, na))\n",
    "    b = np.reshape(B, (mb, 1, nb,1))\n",
    "#     print(a)\n",
    "#     print(b)\n",
    "    return np.reshape(a*b, (ma*mb, na*nb))[0]\n"
   ]
  },
  {
   "cell_type": "code",
   "execution_count": 184,
   "metadata": {},
   "outputs": [],
   "source": [
    "def cdmat(s,hl,cn):\n",
    "    h = Super_codes(hl)\n",
    "    if len(s.shape) < 2:\n",
    "        S = np.reshape(s, (1,-1))\n",
    "    else:\n",
    "        S = s\n",
    "    if len(h[cn,:].shape) < 2:\n",
    "        H = np.reshape(h[cn,:], (1,-1))\n",
    "    else:\n",
    "        H = h[cn,:]\n",
    "    return kron(S, H)\n"
   ]
  },
  {
   "cell_type": "code",
   "execution_count": 185,
   "metadata": {},
   "outputs": [],
   "source": [
    "s = []\n",
    "for n in range(nu):\n",
    "    s.append(cdmat(u_BPSK[n,:], hl, n))\n",
    "s = np.array(s)\n"
   ]
  },
  {
   "cell_type": "code",
   "execution_count": 186,
   "metadata": {},
   "outputs": [],
   "source": [
    "cd1=np.reshape(sum(s), (1,-1));"
   ]
  },
  {
   "cell_type": "code",
   "execution_count": 187,
   "metadata": {},
   "outputs": [],
   "source": [
    "def rectpulse(A, n):\n",
    "    r = []\n",
    "    a = np.reshape(A, (-1))\n",
    "    for i in a:\n",
    "        r.extend([i]*n)\n",
    "    return np.reshape(np.array(r), (1,-1))\n"
   ]
  },
  {
   "cell_type": "code",
   "execution_count": 188,
   "metadata": {},
   "outputs": [],
   "source": [
    "def intdump(A, n):\n",
    "    r = []\n",
    "    a = np.mean(np.reshape(A, (-1,4)), axis=1, keepdims=True)\n",
    "    return a.T"
   ]
  },
  {
   "cell_type": "code",
   "execution_count": 189,
   "metadata": {},
   "outputs": [],
   "source": [
    "def cdmar(s,hl, cn, ml):\n",
    "    h =Super_codes(hl)\n",
    "    scused = np.ones((1,ml))\n",
    "    if len(scused.shape) < 2:\n",
    "        S = np.reshape(scused, (1,-1))\n",
    "    else:\n",
    "        S = scused\n",
    "    if len(h[cn,:].shape) < 2:\n",
    "        H = np.reshape(h[cn,:], (1,-1))\n",
    "    else:\n",
    "        H = h[cn,:]\n",
    "    bds = kron(S, H)\n",
    "    ds = bds*s\n",
    "#     print(ds.shape, bds.shape, s.shape)\n",
    "    rds = np.reshape(ds, (hl,int(s.shape[1]/hl)))\n",
    "    ou = sum(rds)\n",
    "    t = len(ou)\n",
    "    en = []\n",
    "    for a in range(t):\n",
    "        if ou[a] > 1:\n",
    "            en.append(1)\n",
    "        else:\n",
    "            en.append(-1)\n",
    "    return en"
   ]
  },
  {
   "cell_type": "markdown",
   "metadata": {},
   "source": [
    "### Oversampling and Downsampling"
   ]
  },
  {
   "cell_type": "code",
   "execution_count": 198,
   "metadata": {},
   "outputs": [],
   "source": [
    "loo = 0\n",
    "cd = np.repeat(cd1, 4)\n",
    "for SNR in range(-15,15, 2):\n",
    "    loo += 1\n",
    "    awgn = komm.AWGNChannel(snr=SNR, signal_power=10.0) #Add white Gaussian noise to a signal.\n",
    "    t = awgn(cd)\n",
    "    or_ = intdump(t,4)\n",
    "    sr = []\n",
    "    for p in range(nu):\n",
    "        sr.append(cdmar(or_, hl, p, ml))\n",
    "sr = np.array(sr)\n"
   ]
  },
  {
   "cell_type": "code",
   "execution_count": 199,
   "metadata": {},
   "outputs": [],
   "source": [
    "binary_rx=((sr+1)/2).astype(int);"
   ]
  },
  {
   "cell_type": "markdown",
   "metadata": {},
   "source": [
    "### Plot Combined Signals for Tx & Rx"
   ]
  },
  {
   "cell_type": "code",
   "execution_count": 200,
   "metadata": {
    "scrolled": true
   },
   "outputs": [
    {
     "data": {
      "image/png": "[encoded data removed]",
      "text/plain": [
       "<Figure size 720x576 with 2 Axes>"
      ]
     },
     "metadata": {
      "needs_background": "light"
     },
     "output_type": "display_data"
    }
   ],
   "source": [
    "fig, axs = plt.subplots(2, figsize = (10,8))\n",
    "fig.suptitle('Combined signals (only 20 symbols)')\n",
    "axs[0].stem(cd1[0,0:20])\n",
    "axs[0].set_xlabel('Index of Combined symbols sender');\n",
    "axs[0].set_ylim(-nu,nu)\n",
    "axs[0].set_ylabel('Magnitude');\n",
    "axs[0].grid(True)\n",
    "\n",
    "axs[1].stem(or_[0,0:20]);\n",
    "axs[1].set_xlabel('Index of Combined symbols receiver');\n",
    "axs[1].set_ylabel('Magnitude');\n",
    "axs[1].set_ylim(-nu,nu)\n",
    "axs[1].grid(True)\n",
    "plt.savefig('Simu_Super_128_nu')"
   ]
  },
  {
   "cell_type": "code",
   "execution_count": 202,
   "metadata": {},
   "outputs": [
    {
     "data": {
      "image/png": "[encoded data removed]",
      "text/plain": [
       "<Figure size 432x288 with 1 Axes>"
      ]
     },
     "metadata": {
      "needs_background": "light"
     },
     "output_type": "display_data"
    }
   ],
   "source": [
    "plt.stem(range(20), cd1[0,0:20]);\n",
    "plt.stem([i+0.4 for i in range(20)], or_[0,0:20], linefmt='red');\n",
    "plt.savefig('combined-simu_Super_128, SNR=1')"
   ]
  },
  {
   "cell_type": "markdown",
   "metadata": {},
   "source": [
    "### Plot data for a randomly selected user such as user no. 1 before the BPSK mapping Tx and Rx "
   ]
  },
  {
   "cell_type": "code",
   "execution_count": 152,
   "metadata": {
    "scrolled": true
   },
   "outputs": [
    {
     "data": {
      "image/png": "[encoded data removed]",
      "text/plain": [
       "<Figure size 720x576 with 2 Axes>"
      ]
     },
     "metadata": {
      "needs_background": "light"
     },
     "output_type": "display_data"
    }
   ],
   "source": [
    "fig, axs = plt.subplots(2, figsize = (10,8))\n",
    "fig.suptitle('Combined signals (only 10 symbols)')\n",
    "axs[0].stem(u_binary[0,0:10])\n",
    "axs[0].set_xlabel('Index of Combined symbols');\n",
    "axs[0].set_ylim(0,1.2)\n",
    "axs[0].set_ylabel('Magnitude');\n",
    "axs[0].grid(True)\n",
    "axs[1].stem((sr[0,0:10]+1)/2);\n",
    "axs[1].set_xlabel('Index of Combined symbols');\n",
    "axs[1].set_ylabel('Magnitude');\n",
    "axs[1].set_ylim(0,1.2)\n",
    "axs[1].grid(True)\n",
    "fig.savefig  ('Before BPSK_Walsh_32')\n"
   ]
  },
  {
   "cell_type": "markdown",
   "metadata": {},
   "source": [
    "### Plot data for a randomly selected user such as user no. 1 after the BPSK mapping Tx and Rx "
   ]
  },
  {
   "cell_type": "code",
   "execution_count": 204,
   "metadata": {
    "scrolled": true
   },
   "outputs": [
    {
     "data": {
      "image/png": "[encoded data removed]",
      "text/plain": [
       "<Figure size 720x576 with 2 Axes>"
      ]
     },
     "metadata": {
      "needs_background": "light"
     },
     "output_type": "display_data"
    }
   ],
   "source": [
    "fig, axs = plt.subplots(2, figsize = (10,8))\n",
    "fig.suptitle('Combined signals (only 20 symbols)')\n",
    "axs[0].stem((u_BPSK[0,0:10]+1)/2)\n",
    "axs[0].set_xlabel('Index of Combined symbols');\n",
    "axs[0].set_ylim(0,1.2)\n",
    "axs[0].set_ylabel('Magnitude');\n",
    "axs[0].grid(True)\n",
    "axs[1].stem((sr[0,0:10]+1)/2);\n",
    "axs[1].set_xlabel('Index of Combined symbols');\n",
    "axs[1].set_ylabel('Magnitude');\n",
    "axs[1].set_ylim(0,1.2)\n",
    "axs[1].grid(True)\n",
    "plt.savefig('After_BPSK_Super_128')\n"
   ]
  },
  {
   "cell_type": "code",
   "execution_count": 30,
   "metadata": {},
   "outputs": [
    {
     "data": {
      "text/plain": [
       "[<matplotlib.lines.Line2D at 0x21e27acb7f0>,\n",
       " <matplotlib.lines.Line2D at 0x21e27ad9128>,\n",
       " <matplotlib.lines.Line2D at 0x21e27ad9470>,\n",
       " <matplotlib.lines.Line2D at 0x21e27ad95c0>,\n",
       " <matplotlib.lines.Line2D at 0x21e27ad9710>,\n",
       " <matplotlib.lines.Line2D at 0x21e27ad9860>,\n",
       " <matplotlib.lines.Line2D at 0x21e27ad99b0>,\n",
       " <matplotlib.lines.Line2D at 0x21e27ad9b00>,\n",
       " <matplotlib.lines.Line2D at 0x21e27ad9c50>,\n",
       " <matplotlib.lines.Line2D at 0x21e27ad9da0>,\n",
       " <matplotlib.lines.Line2D at 0x21e27ac2fd0>,\n",
       " <matplotlib.lines.Line2D at 0x21e27ae4048>,\n",
       " <matplotlib.lines.Line2D at 0x21e27ae4198>,\n",
       " <matplotlib.lines.Line2D at 0x21e27ae42e8>,\n",
       " <matplotlib.lines.Line2D at 0x21e27ae4438>,\n",
       " <matplotlib.lines.Line2D at 0x21e27ae4588>,\n",
       " <matplotlib.lines.Line2D at 0x21e27ae46d8>]"
      ]
     },
     "execution_count": 30,
     "metadata": {},
     "output_type": "execute_result"
    },
    {
     "data": {
      "image/png": "[encoded data removed]",
      "text/plain": [
       "<Figure size 432x288 with 1 Axes>"
      ]
     },
     "metadata": {
      "needs_background": "light"
     },
     "output_type": "display_data"
    }
   ],
   "source": []
  },
  {
   "cell_type": "code",
   "execution_count": 40,
   "metadata": {},
   "outputs": [
    {
     "name": "stdout",
     "output_type": "stream",
     "text": [
      "EbNodB: [-1. -1. -1.  1. -1. -1.  1. -1.]\n",
      "Numbder of errors: [16686 16686 16686 12761 16686 16686 12761 16686]\n",
      "Error probability: [0.16686 0.16686 0.16686 0.12761 0.16686 0.16686 0.12761 0.16686]\n",
      "EbNodB: [-1.  1. -1. -1. -1.  1.  1.  1.]\n",
      "Numbder of errors: [16707 12682 16707 16707 16707 12682 12682 12682]\n",
      "Error probability: [0.16707 0.12682 0.16707 0.16707 0.16707 0.12682 0.12682 0.12682]\n",
      "EbNodB: [-1. -1.  1. -1. -1. -1. -1.  1.]\n",
      "Numbder of errors: [16821 16821 12784 16821 16821 16821 16821 12784]\n",
      "Error probability: [0.16821 0.16821 0.12784 0.16821 0.16821 0.16821 0.16821 0.12784]\n",
      "EbNodB: [-1.  1.  1.  1. -1.  1. -1. -1.]\n",
      "Numbder of errors: [16854 12748 12748 12748 16854 12748 16854 16854]\n",
      "Error probability: [0.16854 0.12748 0.12748 0.12748 0.16854 0.12748 0.16854 0.16854]\n",
      "EbNodB: [-1. -1. -1.  1.  1.  1. -1.  1.]\n",
      "Numbder of errors: [16844 16844 16844 12782 12782 12782 16844 12782]\n",
      "Error probability: [0.16844 0.16844 0.16844 0.12782 0.12782 0.12782 0.16844 0.12782]\n",
      "EbNodB: [-1.  1. -1. -1.  1. -1. -1. -1.]\n",
      "Numbder of errors: [16992 12827 16992 16992 12827 16992 16992 16992]\n",
      "Error probability: [0.16992 0.12827 0.16992 0.16992 0.12827 0.16992 0.16992 0.16992]\n",
      "EbNodB: [-1. -1.  1. -1.  1.  1.  1. -1.]\n",
      "Numbder of errors: [16811 16811 12740 16811 12740 12740 12740 16811]\n",
      "Error probability: [0.16811 0.16811 0.1274  0.16811 0.1274  0.1274  0.1274  0.16811]\n",
      "EbNodB: [-1.  1.  1.  1.  1. -1.  1.  1.]\n",
      "Numbder of errors: [16801 12634 12634 12634 12634 16801 12634 12634]\n",
      "Error probability: [0.16801 0.12634 0.12634 0.12634 0.12634 0.16801 0.12634 0.12634]\n"
     ]
    },
    {
     "data": {
      "image/png": "[encoded data removed]",
      "text/plain": [
       "<Figure size 432x288 with 1 Axes>"
      ]
     },
     "metadata": {
      "needs_background": "light"
     },
     "output_type": "display_data"
    }
   ],
   "source": [
    "from numpy import sqrt\n",
    "import random\n",
    "import matplotlib.pyplot as plt\n",
    " \n",
    "N = Super_codes(nu)\n",
    "\n",
    "EbNodB_range = Super_codes(nu)   #range(0, 11)\n",
    "itr = len(EbNodB_range)\n",
    "ber = [None]*itr\n",
    "tx_symbol = 0\n",
    "noise = 0 \n",
    "ch_coeff = 0\n",
    "rx_symbol = 0 \n",
    "det_symbol = 0 \n",
    "\n",
    "for n in range (0, itr): \n",
    " \n",
    "    EbNodB = EbNodB_range[n]   \n",
    "    EbNo=10.0**(EbNodB/10.0)\n",
    "    noise_std = 1/sqrt(2*EbNo)\n",
    "    noise_mean = 0\n",
    "    \n",
    "    no_errors = 0\n",
    "    for m in range (0, N):\n",
    "      tx_symbol = 2*random.randint(0,1)-1\n",
    "      noise = random.gauss(noise_mean, noise_std)\n",
    "      ch_coeff = sqrt(random.gauss(0,1)**2+random.gauss(0,1)**2)/sqrt(2)\n",
    "      rx_symbol = tx_symbol*ch_coeff + noise\n",
    "      det_symbol = 2 * (rx_symbol >= 0) - 1\n",
    "      no_errors += 1*(tx_symbol != det_symbol)  \n",
    "    \n",
    "    ber[n] = no_errors / N\n",
    "    print (\"EbNodB:\", EbNodB)\n",
    "    print (\"Numbder of errors:\", no_errors)\n",
    "    print (\"Error probability:\", ber[n])\n",
    "        \n",
    "plt.plot(EbNodB_range, ber, 'bo-')\n",
    "plt.axis([0, 10, 0, 0.1])\n",
    "#plt.xscale('linear')\n",
    "#plt.yscale('log')\n",
    "plt.xlabel('EbNo(dB)')\n",
    "plt.ylabel('BER')\n",
    "#plt.grid(True)\n",
    "plt.title('BPSK Modulation')\n",
    "plt.show()"
   ]
  },
  {
   "cell_type": "code",
   "execution_count": null,
   "metadata": {},
   "outputs": [],
   "source": []
  }
 ],
 "metadata": {
  "kernelspec": {
   "display_name": "Python 3",
   "language": "python",
   "name": "python3"
  },
  "language_info": {
   "codemirror_mode": {
    "name": "ipython",
    "version": 3
   },
   "file_extension": ".py",
   "mimetype": "text/x-python",
   "name": "python",
   "nbconvert_exporter": "python",
   "pygments_lexer": "ipython3",
   "version": "3.7.1"
  }
 },
 "nbformat": 4,
 "nbformat_minor": 2
}
